{
 "cells": [
  {
   "cell_type": "markdown",
   "source": [
    "\n",
    "# 1. Train and evaluate two different multiple regression models using different optimization algorithms. Describe your approach, interpret the performance, and justify which machine learning model you would choose."
   ],
   "metadata": {
    "collapsed": false
   }
  },
  {
   "cell_type": "code",
   "execution_count": 14,
   "outputs": [],
   "source": [
    "import pandas as pd\n",
    "\n",
    "# Load the Bike Shop dataset from Git\n",
    "url = 'https://raw.githubusercontent.com/VAWi-DataScience/Data-Science-and-Machine-Learning/main/Assignment/WiSe22_23/02_Bike%20rental.csv'\n",
    "bikeRentalDF = pd.read_csv(url)\n",
    "import pandas as pd\n",
    "\n",
    "# Drop the 'instant' column as it is just a record index and not useful for modeling\n",
    "bikeRentalDF.drop('instant', axis=1, inplace=True)\n",
    "\n",
    "# Convert 'dteday' column to datetime format\n",
    "bikeRentalDF['dteday'] = pd.to_datetime(bikeRentalDF['dteday'])\n",
    "\n",
    "# Create separate columns for year, month, and day from 'dteday' column\n",
    "bikeRentalDF['year'] = bikeRentalDF['dteday'].dt.year\n",
    "bikeRentalDF['month'] = bikeRentalDF['dteday'].dt.month\n",
    "bikeRentalDF['day'] = bikeRentalDF['dteday'].dt.day\n",
    "\n",
    "# Drop the 'dteday' column as we already extracted year, month, and day information\n",
    "bikeRentalDF.drop('dteday', axis=1, inplace=True)\n",
    "\n",
    "# Create dummy variables for categorical variables: season, weathersit, weekday\n",
    "bikeRentalDF = pd.get_dummies(bikeRentalDF, columns=['season', 'weathersit', 'weekday'])\n",
    "\n",
    "# Split the data into training and testing sets\n",
    "from sklearn.model_selection import train_test_split\n",
    "\n",
    "X = bikeRentalDF.drop(['cnt', 'casual', 'registered'], axis=1) # input features\n",
    "y = bikeRentalDF['cnt'] # target variable\n",
    "\n",
    "X_train, X_test, y_train, y_test = train_test_split(X, y, test_size=0.2, random_state=42)\n",
    "\n",
    "# Standardize the input features using StandardScaler\n",
    "from sklearn.preprocessing import StandardScaler\n",
    "\n",
    "scaler = StandardScaler()\n",
    "X_train_scaled = scaler.fit_transform(X_train)\n",
    "X_test_scaled = scaler.transform(X_test)\n"
   ],
   "metadata": {
    "collapsed": false
   }
  },
  {
   "cell_type": "code",
   "execution_count": 15,
   "outputs": [],
   "source": [
    "from sklearn.linear_model import LinearRegression\n",
    "# Fit a linear regression model\n",
    "lin_reg = LinearRegression()\n",
    "lin_reg.fit(X_train_scaled, y_train)\n",
    "\n",
    "# Evaluate the performance of the model on the test set\n",
    "from sklearn.metrics import mean_squared_error, r2_score\n",
    "\n",
    "y_pred = lin_reg.predict(X_test_scaled)"
   ],
   "metadata": {
    "collapsed": false
   }
  },
  {
   "cell_type": "code",
   "execution_count": 16,
   "outputs": [
    {
     "name": "stdout",
     "output_type": "stream",
     "text": [
      "Mean Absolute Error(MAE): 585.1943728679979\n",
      "Mean Squared Error(MSE): 648740.5778384353\n",
      "Root Mean Squared Error(RMSE): 805.4443356548206\n",
      "R2-Square: 0.8230241690061378\n"
     ]
    }
   ],
   "source": [
    "import numpy as np\n",
    "from sklearn.metrics import mean_absolute_error\n",
    "from sklearn.preprocessing import StandardScaler\n",
    "\n",
    "scaler = StandardScaler()\n",
    "y_train_scaled = scaler.fit_transform(y_train.values.reshape(-1, 1))\n",
    "y_test_scaled = scaler.transform(y_test.values.reshape(-1, 1))\n",
    "\n",
    "lin_reg.fit(X_train_scaled, y_train_scaled)\n",
    "\n",
    "predictions_train_scaled = lin_reg.predict(X_train_scaled)\n",
    "predictions_train = scaler.inverse_transform(predictions_train_scaled)\n",
    "\n",
    "# Evaluate mean absolute error\n",
    "print('Mean Absolute Error(MAE):', mean_absolute_error(y_train,predictions_train))\n",
    "\n",
    "# Evaluate mean squared error\n",
    "print(\"Mean Squared Error(MSE):\", mean_squared_error(y_train, predictions_train))\n",
    "\n",
    "# Evaluate root mean squared error\n",
    "print(\"Root Mean Squared Error(RMSE):\", np.sqrt(mean_squared_error(y_train, predictions_train)))\n",
    "\n",
    "# Evaluate R2-square\n",
    "print(\"R2-Square:\",r2_score(y_train, predictions_train))\n"
   ],
   "metadata": {
    "collapsed": false
   }
  },
  {
   "cell_type": "code",
   "execution_count": 16,
   "outputs": [],
   "source": [],
   "metadata": {
    "collapsed": false
   }
  }
 ],
 "metadata": {
  "kernelspec": {
   "display_name": "Python 3",
   "language": "python",
   "name": "python3"
  },
  "language_info": {
   "codemirror_mode": {
    "name": "ipython",
    "version": 2
   },
   "file_extension": ".py",
   "mimetype": "text/x-python",
   "name": "python",
   "nbconvert_exporter": "python",
   "pygments_lexer": "ipython2",
   "version": "2.7.6"
  }
 },
 "nbformat": 4,
 "nbformat_minor": 0
}
