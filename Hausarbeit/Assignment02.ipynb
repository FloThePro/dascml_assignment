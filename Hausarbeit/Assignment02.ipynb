{
 "cells": [
  {
   "cell_type": "markdown",
   "source": [
    "\n",
    "# 1. Train and evaluate two different multiple regression models using different optimization algorithms. Describe your approach, interpret the performance, and justify which machine learning model you would choose."
   ],
   "metadata": {
    "collapsed": false
   }
  },
  {
   "cell_type": "code",
   "execution_count": 1,
   "outputs": [],
   "source": [
    "import pandas as pd\n",
    "\n",
    "# Load the Bike Shop dataset from Git\n",
    "url = 'https://raw.githubusercontent.com/VAWi-DataScience/Data-Science-and-Machine-Learning/main/Assignment/WiSe22_23/02_Bike%20rental.csv'\n",
    "df = pd.read_csv(url)\n"
   ],
   "metadata": {
    "collapsed": false
   }
  },
  {
   "cell_type": "code",
   "execution_count": 2,
   "outputs": [
    {
     "name": "stdout",
     "output_type": "stream",
     "text": [
      "MSE Model 1: 691035.0082022652\n",
      "MSE Model 2: 862379.3268848669\n"
     ]
    }
   ],
   "source": [
    "# Import libraries\n",
    "from sklearn.model_selection import train_test_split\n",
    "from sklearn.linear_model import LinearRegression, SGDRegressor\n",
    "from sklearn.metrics import mean_squared_error\n",
    "\n",
    "# Preprocess the dataset\n",
    "df = df.drop(['instant', 'dteday', 'casual', 'registered'], axis=1)\n",
    "\n",
    "# Split the dataset into training and testing sets\n",
    "X = df.drop('cnt', axis=1)\n",
    "y = df['cnt']\n",
    "X_train, X_test, y_train, y_test = train_test_split(X, y, test_size=0.2, random_state=42)\n",
    "\n",
    "# Train two different multiple regression models using different optimization algorithms\n",
    "model1 = LinearRegression()\n",
    "model1.fit(X_train, y_train)\n",
    "\n",
    "model2 = SGDRegressor()\n",
    "model2.fit(X_train, y_train)\n",
    "\n",
    "# Evaluate the performance of the models and compare them\n",
    "y_pred1 = model1.predict(X_test)\n",
    "mse1 = mean_squared_error(y_test, y_pred1)\n",
    "\n",
    "y_pred2 = model2.predict(X_test)\n",
    "mse2 = mean_squared_error(y_test, y_pred2)\n",
    "\n",
    "print('MSE Model 1:', mse1)\n",
    "print('MSE Model 2:', mse2)\n",
    "\n",
    "# Choose the best model and justify the choice\n",
    "# The model with the lower MSE is the better model. In this case, we would choose the model with the lower MSE as our best model. We can also consider other performance metrics such as R^2 score, but MSE is a commonly used metric to evaluate regression models.\n"
   ],
   "metadata": {
    "collapsed": false
   }
  },
  {
   "cell_type": "code",
   "execution_count": 4,
   "outputs": [
    {
     "name": "stdout",
     "output_type": "stream",
     "text": [
      "     season  yr  mnth  holiday  weekday  workingday  weathersit      temp  \\\n",
      "0         1   0     1        0        6           0           2  0.344167   \n",
      "1         1   0     1        0        0           0           2  0.363478   \n",
      "2         1   0     1        0        1           1           1  0.196364   \n",
      "3         1   0     1        0        2           1           1  0.200000   \n",
      "4         1   0     1        0        3           1           1  0.226957   \n",
      "..      ...  ..   ...      ...      ...         ...         ...       ...   \n",
      "726       1   1    12        0        4           1           2  0.254167   \n",
      "727       1   1    12        0        5           1           2  0.253333   \n",
      "728       1   1    12        0        6           0           2  0.253333   \n",
      "729       1   1    12        0        0           0           1  0.255833   \n",
      "730       1   1    12        0        1           1           2  0.215833   \n",
      "\n",
      "        atemp       hum  windspeed   cnt  \n",
      "0    0.363625  0.805833   0.160446   985  \n",
      "1    0.353739  0.696087   0.248539   801  \n",
      "2    0.189405  0.437273   0.248309  1349  \n",
      "3    0.212122  0.590435   0.160296  1562  \n",
      "4    0.229270  0.436957   0.186900  1600  \n",
      "..        ...       ...        ...   ...  \n",
      "726  0.226642  0.652917   0.350133  2114  \n",
      "727  0.255046  0.590000   0.155471  3095  \n",
      "728  0.242400  0.752917   0.124383  1341  \n",
      "729  0.231700  0.483333   0.350754  1796  \n",
      "730  0.223487  0.577500   0.154846  2729  \n",
      "\n",
      "[731 rows x 12 columns]\n"
     ]
    }
   ],
   "source": [
    "print(df)\n"
   ],
   "metadata": {
    "collapsed": false
   }
  },
  {
   "cell_type": "code",
   "execution_count": null,
   "outputs": [],
   "source": [],
   "metadata": {
    "collapsed": false
   }
  }
 ],
 "metadata": {
  "kernelspec": {
   "display_name": "Python 3",
   "language": "python",
   "name": "python3"
  },
  "language_info": {
   "codemirror_mode": {
    "name": "ipython",
    "version": 2
   },
   "file_extension": ".py",
   "mimetype": "text/x-python",
   "name": "python",
   "nbconvert_exporter": "python",
   "pygments_lexer": "ipython2",
   "version": "2.7.6"
  }
 },
 "nbformat": 4,
 "nbformat_minor": 0
}
